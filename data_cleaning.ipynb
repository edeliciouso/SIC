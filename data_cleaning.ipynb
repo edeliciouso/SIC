{
 "cells": [
  {
   "cell_type": "code",
   "execution_count": 12,
   "id": "f0c472ed",
   "metadata": {},
   "outputs": [],
   "source": [
    "import pandas as pd"
   ]
  },
  {
   "cell_type": "code",
   "execution_count": 13,
   "id": "06c3a527",
   "metadata": {},
   "outputs": [],
   "source": [
    "df = pd.read_csv(\"Food Ingredients and Recipe Dataset with Image Name Mapping.csv\")"
   ]
  },
  {
   "cell_type": "code",
   "execution_count": 14,
   "id": "3dfbac9e",
   "metadata": {},
   "outputs": [],
   "source": [
    "# remove columns not used\n",
    "df = df.drop(columns=[df.columns[0], 'Image_Name', 'Cleaned_Ingredients'])"
   ]
  },
  {
   "cell_type": "code",
   "execution_count": 15,
   "id": "cc8b4912",
   "metadata": {},
   "outputs": [],
   "source": [
    "# save\n",
    "df.to_csv(\"cleaned_recipes.csv\", index=False)"
   ]
  },
  {
   "cell_type": "code",
   "execution_count": null,
   "id": "1e2118af",
   "metadata": {},
   "outputs": [],
   "source": [
    "# csv to txt\n",
    "lines = []\n",
    "for _, row in df.iterrows():\n",
    "    title = row['Title']\n",
    "    ingredients = row['Ingredients']\n",
    "    instructions = row['Instructions']\n",
    "    \n",
    "    # check for NaN or None\n",
    "    if isinstance(instructions, str):\n",
    "        instructions = instructions.replace('\\n', ' ').replace('\\r', '')\n",
    "    else:\n",
    "        instructions = ''\n",
    "    \n",
    "    line = f\"{title}!{ingredients}!{instructions}\"\n",
    "    lines.append(line)"
   ]
  },
  {
   "cell_type": "code",
   "execution_count": 18,
   "id": "681b452f",
   "metadata": {},
   "outputs": [],
   "source": [
    "# txt file\n",
    "with open(\"recipes_formatted.txt\", \"w\", encoding=\"utf-8\") as f:\n",
    "    for line in lines:\n",
    "        f.write(line.strip() + \"\\n\")"
   ]
  }
 ],
 "metadata": {
  "kernelspec": {
   "display_name": "Python 3",
   "language": "python",
   "name": "python3"
  },
  "language_info": {
   "codemirror_mode": {
    "name": "ipython",
    "version": 3
   },
   "file_extension": ".py",
   "mimetype": "text/x-python",
   "name": "python",
   "nbconvert_exporter": "python",
   "pygments_lexer": "ipython3",
   "version": "3.10.7"
  }
 },
 "nbformat": 4,
 "nbformat_minor": 5
}
